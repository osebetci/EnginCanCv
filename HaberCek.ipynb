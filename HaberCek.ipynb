{
  "nbformat": 4,
  "nbformat_minor": 0,
  "metadata": {
    "colab": {
      "provenance": [],
      "authorship_tag": "ABX9TyNnlCE/oniQHxPCmwVje6nG",
      "include_colab_link": true
    },
    "kernelspec": {
      "name": "python3",
      "display_name": "Python 3"
    },
    "language_info": {
      "name": "python"
    }
  },
  "cells": [
    {
      "cell_type": "markdown",
      "metadata": {
        "id": "view-in-github",
        "colab_type": "text"
      },
      "source": [
        "<a href=\"https://colab.research.google.com/github/osebetci/EnginCanCv/blob/master/HaberCek.ipynb\" target=\"_parent\"><img src=\"https://colab.research.google.com/assets/colab-badge.svg\" alt=\"Open In Colab\"/></a>"
      ]
    },
    {
      "cell_type": "code",
      "execution_count": 3,
      "metadata": {
        "id": "IPSf1G0OHxKB"
      },
      "outputs": [],
      "source": [
        "import requests\n",
        "import xml.etree.ElementTree as ET\n",
        "from bs4 import BeautifulSoup\n",
        "import openpyxl\n",
        "\n",
        "# Kategorilere ait linkler\n",
        "category_links = [\n",
        "    \"http://www.trthaber.com/xml_mobile.php?tur=xml_genel&kategori=&adet=100&selectEx=yorumSay,okunmaadedi,anasayfamanset,kategorimanset\",\n",
        "    \"http://www.trthaber.com/xml_mobile.php?tur=xml_genel&kategori=sondakika&adet=100&selectEx=yorumSay,okunmaadedi,anasayfamanset,kategorimanset\",\n",
        "    \"http://www.trthaber.com/xml_mobile.php?tur=xml_genel&kategori=spor&adet=100&selectEx=yorumSay,okunmaadedi,anasayfamanset,kategorimanset\",\n",
        "    \"http://www.trthaber.com/xml_mobile.php?tur=xml_genel&kategori=gundem&adet=100&selectEx=yorumSay,okunmaadedi,anasayfamanset,kategorimanset\",\n",
        "    \"http://www.trthaber.com/xml_mobile.php?tur=xml_genel&kategori=ekonomi&adet=100&selectEx=yorumSay,okunmaadedi,anasayfamanset,kategorimanset\",\n",
        "    \"http://www.trthaber.com/xml_mobile.php?tur=xml_genel&kategori=saglik&adet=100&selectEx=yorumSay,okunmaadedi,anasayfamanset,kategorimanset\",\n",
        "    \"http://www.trthaber.com/xml_mobile.php?tur=xml_genel&kategori=yasam&adet=100&selectEx=yorumSay,okunmaadedi,anasayfamanset,kategorimanset\",\n",
        "    \"http://www.trthaber.com/xml_mobile.php?tur=xml_genel&kategori=kultur-sanat&adet=100&selectEx=yorumSay,okunmaadedi,anasayfamanset,kategorimanset\",\n",
        "    \"http://www.trthaber.com/xml_mobile.php?tur=xml_genel&kategori=egitim&adet=100&selectEx=yorumSay,okunmaadedi,anasayfamanset,kategorimanset\",\n",
        "    \"http://www.trthaber.com/xml_mobile.php?tur=xml_genel&kategori=turkiye&adet=100&selectEx=yorumSay,okunmaadedi,anasayfamanset,kategorimanset\",\n",
        "    \"https://www.trthaber.com/xml_mobile.php?tur=xml_genel&kategori=teknoloji&adet=100&selectEx=yorumSay,okunmaadedi,anasayfamanset,kategorimanset\",\n",
        "    \"https://www.trthaber.com/xml_mobile.php?tur=xml_genel&kategori=cocuk&adet=100&selectEx=yorumSay,okunmaadedi,anasayfamanset,kategorimanset\",\n",
        "    \"http://www.trthaber.com/xml_mobile.php?tur=xml_genel&kategori=dunya&adet=100&selectEx=yorumSay,okunmaadedi,anasayfamanset,kategorimanset\",\n",
        "    \"http://www.trthaber.com/xml_mobile.php?tur=xml_genel&kategori=politika&adet=100&selectEx=yorumSay,okunmaadedi,anasayfamanset,kategorimanset\",\n",
        "    \"http://www.trthaber.com/xml_mobile.php?tur=xml_genel&kategori=bilim&adet=100&selectEx=yorumSay,okunmaadedi,anasayfamanset,kategorimanset\",\n",
        "    \"http://www.trthaber.com/xml_mobile.php?tur=xml_genel&kategori=teknoloji&adet=100&selectEx=yorumSay,okunmaadedi,anasayfamanset,kategorimanset\",\n",
        "    \"http://www.trthaber.com/xml_mobile.php?tur=xml_genel&kategori=magazin&adet=100&selectEx=yorumSay,okunmaadedi,anasayfamanset,kategorimanset\",\n",
        "    \"http://www.trthaber.com/xml_mobile.php?tur=xml_genel&kategori=cevre&adet=100&selectEx=yorumSay,okunmaadedi,anasayfamanset,kategorimanset\",\n",
        "    \"http://www.trthaber.com/xml_mobile.php?tur=xml_genel&kategori=seyahat&adet=100&selectEx=yorumSay,okunmaadedi,anasayfamanset,kategorimanset\",\n",
        "    \"http://www.trthaber.com/xml_mobile.php?tur=xml_genel&kategori=tarih&adet=100&selectEx=yorumSay,okunmaadedi,anasayfamanset,kategorimanset\",\n",
        "    \"http://www.trthaber.com/xml_mobile.php?tur=xml_genel&kategori=kariyer&adet=100&selectEx=yorumSay,okunmaadedi,anasayfamanset,kategorimanset\",\n",
        "    \"http://www.trthaber.com/xml_mobile.php?tur=xml_genel&kategori=moda&adet=100&selectEx=yorumSay,okunmaadedi,anasayfamanset,kategorimanset\",\n",
        "    \"http://www.trthaber.com/xml_mobile.php?tur=xml_genel&kategori=uluslararasi&adet=100&selectEx=yorumSay,okunmaadedi,anasayfamanset,kategorimanset\",\n",
        "    \"http://www.trthaber.com/xml_mobile.php?tur=xml_genel&kategori=finans&adet=100&selectEx=yorumSay,okunmaadedi,anasayfamanset,kategorimanset\",\n",
        "    \"http://www.trthaber.com/xml_mobile.php?tur=xml_genel&kategori=hukuk&adet=100&selectEx=yorumSay,okunmaadedi,anasayfamanset,kategorimanset\",\n",
        "    \"http://www.trthaber.com/xml_mobile.php?tur=xml_genel&kategori=otomobil&adet=100&selectEx=yorumSay,okunmaadedi,anasayfamanset,kategorimanset\",\n",
        "    \"http://www.trthaber.com/xml_mobile.php?tur=xml_genel&kategori=muzik&adet=100&selectEx=yorumSay,okunmaadedi,anasayfamanset,kategorimanset\",\n",
        "    \"http://www.trthaber.com/xml_mobile.php?tur=xml_genel&kategori=sinema&adet=100&selectEx=yorumSay,okunmaadedi,anasayfamanset,kategorimanset\",\n",
        "    \"http://www.trthaber.com/xml_mobile.php?tur=xml_genel&kategori=tarim&adet=100&selectEx=yorumSay,okunmaadedi,anasayfamanset,kategorimanset\",\n",
        "    \"http://www.trthaber.com/xml_mobile.php?tur=xml_genel&kategori=emlak&adet=100&selectEx=yorumSay,okunmaadedi,anasayfamanset,kategorimanset\",\n",
        "    \"http://www.trthaber.com/xml_mobile.php?tur=xml_genel&kategori=enerji&adet=100&selectEx=yorumSay,okunmaadedi,anasayfamanset,kategorimanset\",\n",
        "    \"http://www.trthaber.com/xml_mobile.php?tur=xml_genel&kategori=astroloji&adet=100&selectEx=yorumSay,okunmaadedi,anasayfamanset,kategorimanset\",\n",
        "    \"http://www.trthaber.com/xml_mobile.php?tur=xml_genel&kategori=oyun&adet=100&selectEx=yorumSay,okunmaadedi,anasayfamanset,kategorimanset\",\n",
        "    \"http://www.trthaber.com/xml_mobile.php?tur=xml_genel&kategori=kitap&adet=100&selectEx=yorumSay,okunmaadedi,anasayfamanset,kategorimanset\",\n",
        "    \"http://www.trthaber.com/xml_mobile.php?tur=xml_genel&kategori=dijital&adet=100&selectEx=yorumSay,okunmaadedi,anasayfamanset,kategorimanset\",\n",
        "    \"http://www.trthaber.com/xml_mobile.php?tur=xml_genel&kategori=gastro&adet=100&selectEx=yorumSay,okunmaadedi,anasayfamanset,kategorimanset\",\n",
        "    \"http://www.trthaber.com/xml_mobile.php?tur=xml_genel&kategori=moda-ve-guzellik&adet=100&selectEx=yorumSay,okunmaadedi,anasayfamanset,kategorimanset\",\n",
        "    \"http://www.trthaber.com/xml_mobile.php?tur=xml_genel&kategori=seyahat-ve-macera&adet=100&selectEx=yorumSay,okunmaadedi,anasayfamanset,kategorimanset\",\n",
        "    \"http://www.trthaber.com/xml_mobile.php?tur=xml_genel&kategori=podcast&adet=100&selectEx=yorumSay,okunmaadedi,anasayfamanset,kategorimanset\",\n",
        "    \"http://www.trthaber.com/xml_mobile.php?tur=xml_genel&kategori=videogaleri&adet=100&selectEx=yorumSay,okunmaadedi,anasayfamanset,kategorimanset\",\n",
        "    \"http://www.trthaber.com/xml_mobile.php?tur=xml_genel&kategori=animasyon&adet=100&selectEx=yorumSay,okunmaadedi,anasayfamanset,kategorimanset\",\n",
        "    \"http://www.trthaber.com/xml_mobile.php?tur=xml_genel&kategori=dogal-hayat&adet=100&selectEx=yorumSay,okunmaadedi,anasayfamanset,kategorimanset\"\n",
        "]\n",
        "\n",
        "workbook = openpyxl.Workbook()\n",
        "sheet = workbook.active\n",
        "\n",
        "header_row = ['Haber_ID', 'Haber_Basligi', 'Haber_Linki', 'Haber_Aciklamasi', 'Haber_Metni', 'Haber_Kategorisi', 'Haber_Tarihi']\n",
        "sheet.append(header_row)\n",
        "\n",
        "existing_ids = set()  # Haber ID'leri tutmak için bir küme oluştur\n",
        "\n",
        "for category_link in category_links:\n",
        "    response = requests.get(category_link)\n",
        "    xml_data = response.text\n",
        "\n",
        "    tree = ET.ElementTree(ET.fromstring(xml_data))\n",
        "    root = tree.getroot()\n",
        "\n",
        "    for haberler in root.iter('haberler'):\n",
        "        for haber in haberler.findall('.//haber'):\n",
        "            haber_id = haber.find('haber_id').text if haber.find('haber_id') is not None else ''\n",
        "\n",
        "            # Eğer haber ID'si daha önce eklenmişse bu haberi atla\n",
        "            if haber_id in existing_ids:\n",
        "                continue\n",
        "\n",
        "            existing_ids.add(haber_id)  # Haber ID'sini kümeye ekle\n",
        "\n",
        "            haber_manset = haber.find('haber_manset').text if haber.find('haber_manset') is not None else ''\n",
        "            haber_link = haber.find('haber_link').text if haber.find('haber_link') is not None else ''\n",
        "            haber_aciklama = haber.find('haber_aciklama').text if haber.find('haber_aciklama') is not None else ''\n",
        "            haber_metni = haber.find('haber_metni').text if haber.find('haber_metni') is not None else ''\n",
        "            haber_kategorisi = haber.find('haber_kategorisi').text if haber.find('haber_kategorisi') is not None else ''\n",
        "            haber_tarihi = haber.find('haber_tarihi').text if haber.find('haber_tarihi') is not None else ''\n",
        "\n",
        "            # HTML içeriğini temizleme\n",
        "            if haber_metni:\n",
        "                soup = BeautifulSoup(haber_metni, 'html.parser')\n",
        "                for tag in soup(['p', 'a']):\n",
        "                    tag.unwrap()  # p ve a etiketlerini kaldır, içeriklerini koru\n",
        "                cleaned_haber_metni = soup.get_text(strip=True)\n",
        "            else:\n",
        "                cleaned_haber_metni = ''\n",
        "\n",
        "            row_data = [haber_id, haber_manset, haber_link, haber_aciklama, cleaned_haber_metni.strip(), haber_kategorisi, haber_tarihi]\n",
        "            sheet.append(row_data)\n",
        "\n",
        "# Excel dosyasını kaydet\n",
        "workbook.save('habers.xlsx')\n"
      ]
    },
    {
      "cell_type": "code",
      "source": [],
      "metadata": {
        "id": "vlWyBYuUIt5M"
      },
      "execution_count": null,
      "outputs": []
    }
  ]
}